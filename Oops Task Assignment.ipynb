{
 "cells": [
  {
   "cell_type": "markdown",
   "id": "bff0cb2a",
   "metadata": {},
   "source": [
    "Q1, Create a vehicle class with an init method having instance variables as name_of_vehicle, max_speed\n",
    "and average_of_vehicle."
   ]
  },
  {
   "cell_type": "code",
   "execution_count": 1,
   "id": "6fd1611e",
   "metadata": {},
   "outputs": [],
   "source": [
    "class vehicle():\n",
    "    def __init__(self,name_of_vehicle,max_speed,average_of_vehicle):\n",
    "        self.name_of_vehicle = name_of_vehicle\n",
    "        self.max_speed = max_speed\n",
    "        self.average_of_vehicle = average_of_vehicle\n",
    "        \n",
    "    def vehicle_details():\n",
    "        return (self,name_of_vehicle,max_speed,average_of_vehicle)"
   ]
  },
  {
   "cell_type": "code",
   "execution_count": 2,
   "id": "d1854be0",
   "metadata": {},
   "outputs": [],
   "source": [
    "mer = vehicle(\"mersedes\",150,16)"
   ]
  },
  {
   "cell_type": "code",
   "execution_count": 3,
   "id": "0504dfbe",
   "metadata": {},
   "outputs": [
    {
     "data": {
      "text/plain": [
       "'mersedes'"
      ]
     },
     "execution_count": 3,
     "metadata": {},
     "output_type": "execute_result"
    }
   ],
   "source": [
    "mer.name_of_vehicle"
   ]
  },
  {
   "cell_type": "code",
   "execution_count": 4,
   "id": "df6a3efc",
   "metadata": {},
   "outputs": [
    {
     "data": {
      "text/plain": [
       "150"
      ]
     },
     "execution_count": 4,
     "metadata": {},
     "output_type": "execute_result"
    }
   ],
   "source": [
    "mer.max_speed"
   ]
  },
  {
   "cell_type": "code",
   "execution_count": 5,
   "id": "ca8e7754",
   "metadata": {},
   "outputs": [
    {
     "data": {
      "text/plain": [
       "16"
      ]
     },
     "execution_count": 5,
     "metadata": {},
     "output_type": "execute_result"
    }
   ],
   "source": [
    "mer.average_of_vehicle"
   ]
  },
  {
   "cell_type": "markdown",
   "id": "921a0e9c",
   "metadata": {},
   "source": [
    "Q2. Create a child class car from the vehicle class created in Que 1, which will inherit the vehicle class.\n",
    "Create a method named seating_capacity which takes capacity as an argument and returns the name of\n",
    "the vehicle and its seating capacity."
   ]
  },
  {
   "cell_type": "code",
   "execution_count": 6,
   "id": "e1416d87",
   "metadata": {},
   "outputs": [],
   "source": [
    "class Vehicle:\n",
    "    def __init__(self, name_of_vehicle, max_speed, average_of_vehicle):\n",
    "        self.name_of_vehicle = name_of_vehicle\n",
    "        self.max_speed = max_speed\n",
    "        self.average_of_vehicle = average_of_vehicle\n",
    "\n",
    "class Car(Vehicle):\n",
    "    def seating_capacity(self, capacity):\n",
    "        return f\"The {self.name_of_vehicle} has a seating capacity of {capacity}\"\n",
    "    \n"
   ]
  },
  {
   "cell_type": "code",
   "execution_count": 7,
   "id": "ec374bc7",
   "metadata": {},
   "outputs": [
    {
     "name": "stdout",
     "output_type": "stream",
     "text": [
      "The Toyota Camry has a seating capacity of 5\n"
     ]
    }
   ],
   "source": [
    "my_car = Car(\"Toyota Camry\", 200, 35)\n",
    "print(my_car.seating_capacity(5))\n"
   ]
  },
  {
   "cell_type": "markdown",
   "id": "4d4db4a5",
   "metadata": {},
   "source": [
    "Q3. What is multiple inheritance? Write a python code to demonstrate multiple inheritance."
   ]
  },
  {
   "cell_type": "code",
   "execution_count": 12,
   "id": "8f52ae18",
   "metadata": {},
   "outputs": [],
   "source": [
    "class snake1():\n",
    "    def anaconda(self):\n",
    "        return \"it has green in colour\"\n",
    "    def cobra(self):\n",
    "        return \"it has black in colour\"\n",
    "    \n",
    "class snake2(snake1):\n",
    "    def python(self):\n",
    "        return \"it has red in colour\"\n",
    "    def black_mamba(self):\n",
    "        return \"it has black in colour\"\n",
    "    \n",
    "class snake3(snake2):\n",
    "    pass"
   ]
  },
  {
   "cell_type": "code",
   "execution_count": 13,
   "id": "2b04c013",
   "metadata": {},
   "outputs": [],
   "source": [
    "swaroop = snake3()"
   ]
  },
  {
   "cell_type": "code",
   "execution_count": 15,
   "id": "15f0a3cf",
   "metadata": {},
   "outputs": [
    {
     "data": {
      "text/plain": [
       "'it has green in colour'"
      ]
     },
     "execution_count": 15,
     "metadata": {},
     "output_type": "execute_result"
    }
   ],
   "source": [
    "swaroop.anaconda()"
   ]
  },
  {
   "cell_type": "code",
   "execution_count": 16,
   "id": "8753ea26",
   "metadata": {},
   "outputs": [
    {
     "data": {
      "text/plain": [
       "'it has black in colour'"
      ]
     },
     "execution_count": 16,
     "metadata": {},
     "output_type": "execute_result"
    }
   ],
   "source": [
    "swaroop.black_mamba()"
   ]
  },
  {
   "cell_type": "markdown",
   "id": "20275f7f",
   "metadata": {},
   "source": [
    "Q4. What are getter and setter in python? Create a class and create a getter and a setter method in this\n",
    "class."
   ]
  },
  {
   "cell_type": "code",
   "execution_count": 18,
   "id": "8de158ee",
   "metadata": {},
   "outputs": [
    {
     "name": "stdout",
     "output_type": "stream",
     "text": [
      "swaroop\n"
     ]
    }
   ],
   "source": [
    "class Person:\n",
    "    def __init__(self):\n",
    "        self._name = \"\"\n",
    "\n",
    "    def get_name(self):\n",
    "        return self._name\n",
    "\n",
    "    def set_name(self, name):\n",
    "        self._name = name\n",
    "\n",
    "person = Person()\n",
    "person.set_name(\"swaroop\")\n",
    "print(person.get_name()) \n"
   ]
  },
  {
   "cell_type": "markdown",
   "id": "a47c6870",
   "metadata": {},
   "source": [
    "Q5.What is method overriding in python? Write a python code to demonstrate method overriding."
   ]
  },
  {
   "cell_type": "markdown",
   "id": "2b19ae20",
   "metadata": {},
   "source": [
    "Answer : Method overriding is a feature in object-oriented programming that allows a subclass to provide \n",
    "a different implementation of a method that is already defined in its superclass. The overriding method \n",
    "in the subclass has the same \n",
    "name, parameters, and return type as the method in the superclass, but it provides a different implementation."
   ]
  },
  {
   "cell_type": "code",
   "execution_count": 20,
   "id": "0244e420",
   "metadata": {},
   "outputs": [
    {
     "name": "stdout",
     "output_type": "stream",
     "text": [
      "Animal is making a sound.\n",
      "Dog is barking.\n"
     ]
    }
   ],
   "source": [
    "class Animal:\n",
    "    def make_sound(self):\n",
    "        print(\"Animal is making a sound.\")\n",
    "\n",
    "class Dog(Animal):\n",
    "    def make_sound(self):\n",
    "        print(\"Dog is barking.\")\n",
    "\n",
    "\n",
    "animal = Animal()\n",
    "animal.make_sound() \n",
    "\n",
    "dog = Dog()\n",
    "dog.make_sound()  "
   ]
  },
  {
   "cell_type": "code",
   "execution_count": null,
   "id": "f94fe1f4",
   "metadata": {},
   "outputs": [],
   "source": []
  }
 ],
 "metadata": {
  "kernelspec": {
   "display_name": "Python 3 (ipykernel)",
   "language": "python",
   "name": "python3"
  },
  "language_info": {
   "codemirror_mode": {
    "name": "ipython",
    "version": 3
   },
   "file_extension": ".py",
   "mimetype": "text/x-python",
   "name": "python",
   "nbconvert_exporter": "python",
   "pygments_lexer": "ipython3",
   "version": "3.9.12"
  }
 },
 "nbformat": 4,
 "nbformat_minor": 5
}
