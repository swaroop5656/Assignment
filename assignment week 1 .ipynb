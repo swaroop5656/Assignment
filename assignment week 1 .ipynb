{
 "cells": [
  {
   "cell_type": "code",
   "execution_count": null,
   "id": "f3f81cb0-630a-427f-9efe-86ef49bd7153",
   "metadata": {},
   "outputs": [],
   "source": [
    "Question 2"
   ]
  },
  {
   "cell_type": "code",
   "execution_count": 1,
   "id": "2a5fb579-7e5a-48bb-94ff-ea51d0feb66b",
   "metadata": {},
   "outputs": [],
   "source": [
    "var1 = ''"
   ]
  },
  {
   "cell_type": "code",
   "execution_count": 2,
   "id": "2f455425-7114-4390-bef9-63c2b2317212",
   "metadata": {},
   "outputs": [
    {
     "data": {
      "text/plain": [
       "str"
      ]
     },
     "execution_count": 2,
     "metadata": {},
     "output_type": "execute_result"
    }
   ],
   "source": [
    "type(var1)"
   ]
  },
  {
   "cell_type": "code",
   "execution_count": 6,
   "id": "8fd08977-17dd-4dc1-b64b-c1d92d36364a",
   "metadata": {},
   "outputs": [],
   "source": [
    "var2 = '[ DS,ML,Python]'"
   ]
  },
  {
   "cell_type": "code",
   "execution_count": 7,
   "id": "c6edb45f-e8aa-40f4-b417-a615b7676db4",
   "metadata": {},
   "outputs": [
    {
     "data": {
      "text/plain": [
       "str"
      ]
     },
     "execution_count": 7,
     "metadata": {},
     "output_type": "execute_result"
    }
   ],
   "source": [
    "type(var2)"
   ]
  },
  {
   "cell_type": "code",
   "execution_count": 8,
   "id": "5b7b1104-f6ba-4ef4-9300-56f764d25edc",
   "metadata": {},
   "outputs": [],
   "source": [
    "var3 = [ 'DS','ML','Python']"
   ]
  },
  {
   "cell_type": "code",
   "execution_count": 9,
   "id": "e6274dac-a003-4b21-b577-1cb75cff7e12",
   "metadata": {},
   "outputs": [
    {
     "data": {
      "text/plain": [
       "list"
      ]
     },
     "execution_count": 9,
     "metadata": {},
     "output_type": "execute_result"
    }
   ],
   "source": [
    "type(var3)"
   ]
  },
  {
   "cell_type": "code",
   "execution_count": 10,
   "id": "dd51c7ae-8a0c-4a04-aec4-9444078cb9a8",
   "metadata": {},
   "outputs": [],
   "source": [
    "var4 = 1."
   ]
  },
  {
   "cell_type": "code",
   "execution_count": 11,
   "id": "cc05bce3-8aa6-4e70-b482-55265c58f4ac",
   "metadata": {},
   "outputs": [
    {
     "data": {
      "text/plain": [
       "float"
      ]
     },
     "execution_count": 11,
     "metadata": {},
     "output_type": "execute_result"
    }
   ],
   "source": [
    "type(var4)"
   ]
  },
  {
   "cell_type": "markdown",
   "id": "900d6740-095a-41f3-a796-8f1d62706c05",
   "metadata": {},
   "source": [
    "Question 1 "
   ]
  },
  {
   "cell_type": "code",
   "execution_count": 12,
   "id": "a7f38355-7803-4125-994f-9526993c8c55",
   "metadata": {},
   "outputs": [],
   "source": [
    "a = \"swaroop\""
   ]
  },
  {
   "cell_type": "code",
   "execution_count": 13,
   "id": "70fa87e5-fa4f-4ea2-86e4-7be26194596b",
   "metadata": {},
   "outputs": [
    {
     "data": {
      "text/plain": [
       "str"
      ]
     },
     "execution_count": 13,
     "metadata": {},
     "output_type": "execute_result"
    }
   ],
   "source": [
    "type(a)"
   ]
  },
  {
   "cell_type": "code",
   "execution_count": 14,
   "id": "14f13a16-759d-4d56-9deb-bb2f932e31ea",
   "metadata": {},
   "outputs": [],
   "source": [
    "b = [ 2,3,4,5,\"swaroop\",6+5j,67.89,True,False]"
   ]
  },
  {
   "cell_type": "code",
   "execution_count": 15,
   "id": "dc561fb7-5795-4b16-b8e5-9802c16ff5b1",
   "metadata": {},
   "outputs": [
    {
     "data": {
      "text/plain": [
       "list"
      ]
     },
     "execution_count": 15,
     "metadata": {},
     "output_type": "execute_result"
    }
   ],
   "source": [
    "type(b)"
   ]
  },
  {
   "cell_type": "code",
   "execution_count": 16,
   "id": "716142fc-ca46-4eb6-b722-f2a54b49d444",
   "metadata": {},
   "outputs": [],
   "source": [
    "c = 45.67"
   ]
  },
  {
   "cell_type": "code",
   "execution_count": 17,
   "id": "d87209fc-2a21-4724-afa6-ccf37580877e",
   "metadata": {},
   "outputs": [
    {
     "data": {
      "text/plain": [
       "float"
      ]
     },
     "execution_count": 17,
     "metadata": {},
     "output_type": "execute_result"
    }
   ],
   "source": [
    "type(c)"
   ]
  },
  {
   "cell_type": "code",
   "execution_count": 26,
   "id": "7d783bee-67e7-4433-8011-cb40d00c23b9",
   "metadata": {},
   "outputs": [],
   "source": [
    "d = (5,4,3)"
   ]
  },
  {
   "cell_type": "code",
   "execution_count": 27,
   "id": "da6a5660-e1fb-4759-9931-f8cf93ba3c87",
   "metadata": {},
   "outputs": [
    {
     "data": {
      "text/plain": [
       "tuple"
      ]
     },
     "execution_count": 27,
     "metadata": {},
     "output_type": "execute_result"
    }
   ],
   "source": [
    "type (d)"
   ]
  },
  {
   "cell_type": "markdown",
   "id": "324f8146-bafe-4f21-badd-39b9fe3c11ca",
   "metadata": {},
   "source": [
    "Question 3"
   ]
  },
  {
   "cell_type": "code",
   "execution_count": 30,
   "id": "719c74cb-d614-4600-aa35-3a600ece5418",
   "metadata": {},
   "outputs": [
    {
     "data": {
      "text/plain": [
       "1.4"
      ]
     },
     "execution_count": 30,
     "metadata": {},
     "output_type": "execute_result"
    }
   ],
   "source": [
    "7/5"
   ]
  },
  {
   "cell_type": "code",
   "execution_count": 33,
   "id": "6f272643-9757-45a3-bb5f-13a225b8fdf6",
   "metadata": {},
   "outputs": [
    {
     "data": {
      "text/plain": [
       "3"
      ]
     },
     "execution_count": 33,
     "metadata": {},
     "output_type": "execute_result"
    }
   ],
   "source": [
    "3%45"
   ]
  },
  {
   "cell_type": "code",
   "execution_count": 34,
   "id": "faa7d76f-2cc4-4c6d-80a4-35db742614b0",
   "metadata": {},
   "outputs": [
    {
     "data": {
      "text/plain": [
       "7"
      ]
     },
     "execution_count": 34,
     "metadata": {},
     "output_type": "execute_result"
    }
   ],
   "source": [
    "45//6"
   ]
  },
  {
   "cell_type": "code",
   "execution_count": 4,
   "id": "e2f609a1-ec4c-480b-ac1b-f8f1efe003ba",
   "metadata": {},
   "outputs": [
    {
     "data": {
      "text/plain": [
       "759375"
      ]
     },
     "execution_count": 4,
     "metadata": {},
     "output_type": "execute_result"
    }
   ],
   "source": [
    "15**5"
   ]
  },
  {
   "cell_type": "markdown",
   "id": "147e6511-c572-4f2e-8aa0-26dae83ffc92",
   "metadata": {},
   "source": [
    "Question 4 "
   ]
  },
  {
   "cell_type": "code",
   "execution_count": 11,
   "id": "523bb603-8b0b-4615-9d3a-0727197a821d",
   "metadata": {},
   "outputs": [],
   "source": [
    "l = [ 2,3,4,\"swaroop\",45.65,3+4j,True,54,False,\"kale\"]"
   ]
  },
  {
   "cell_type": "code",
   "execution_count": 12,
   "id": "1569261c-1701-4b4b-a4da-3245f46019cc",
   "metadata": {},
   "outputs": [
    {
     "name": "stdout",
     "output_type": "stream",
     "text": [
      "<class 'int'>\n",
      "<class 'int'>\n",
      "<class 'int'>\n",
      "<class 'str'>\n",
      "<class 'float'>\n",
      "<class 'complex'>\n",
      "<class 'bool'>\n",
      "<class 'int'>\n",
      "<class 'bool'>\n",
      "<class 'str'>\n"
     ]
    }
   ],
   "source": [
    "for i in l :\n",
    "    print(type(i))"
   ]
  },
  {
   "cell_type": "markdown",
   "id": "84a873a7-061c-4c24-bbf5-c5f540f2fae3",
   "metadata": {},
   "source": [
    "Question 7"
   ]
  },
  {
   "cell_type": "markdown",
   "id": "27802ac6-a3da-4673-b05e-30e5616e902f",
   "metadata": {},
   "source": [
    "ANSWER : In mutable data types we are able to change data but in imutable data types we are not able \n",
    "to change data . Example of mutable data types is \"list\" and Example of imutable data types is \"string\""
   ]
  },
  {
   "cell_type": "markdown",
   "id": "71ec1c31-1f76-445e-9594-1872f12f6020",
   "metadata": {},
   "source": [
    "List type of data "
   ]
  },
  {
   "cell_type": "code",
   "execution_count": 15,
   "id": "4c086b36-356c-4812-9ea2-b80bb32a8ef1",
   "metadata": {},
   "outputs": [],
   "source": [
    "l = [ 7,8,9,\"nagpur\",23.4,1+3j,True]"
   ]
  },
  {
   "cell_type": "code",
   "execution_count": 16,
   "id": "bd804ca3-13f8-4bf5-b0de-8f442cc8cfa4",
   "metadata": {},
   "outputs": [
    {
     "data": {
      "text/plain": [
       "list"
      ]
     },
     "execution_count": 16,
     "metadata": {},
     "output_type": "execute_result"
    }
   ],
   "source": [
    "type(l)"
   ]
  },
  {
   "cell_type": "code",
   "execution_count": 17,
   "id": "da4d92f4-409b-4c8c-9c4c-88c544f6a494",
   "metadata": {},
   "outputs": [
    {
     "data": {
      "text/plain": [
       "[7, 8, 9, 'nagpur', 23.4, (1+3j), True]"
      ]
     },
     "execution_count": 17,
     "metadata": {},
     "output_type": "execute_result"
    }
   ],
   "source": [
    "l"
   ]
  },
  {
   "cell_type": "markdown",
   "id": "39131cd9-2b0c-4377-b64d-c4653f746d0a",
   "metadata": {},
   "source": [
    "Now i want to change num 2nd which is 9  . i want to replace 9 to 500 "
   ]
  },
  {
   "cell_type": "code",
   "execution_count": 20,
   "id": "adf6c043-ea0d-4869-914c-ed5917106190",
   "metadata": {},
   "outputs": [],
   "source": [
    "l[2] = 500"
   ]
  },
  {
   "cell_type": "code",
   "execution_count": 21,
   "id": "b550d4c5-fdcd-4a48-aa45-088c5b83524c",
   "metadata": {},
   "outputs": [
    {
     "data": {
      "text/plain": [
       "[7, 8, 500, 'nagpur', 23.4, (1+3j), True]"
      ]
     },
     "execution_count": 21,
     "metadata": {},
     "output_type": "execute_result"
    }
   ],
   "source": [
    "l"
   ]
  },
  {
   "cell_type": "markdown",
   "id": "88cfdfbb-52ff-4a45-925e-15b50e06e950",
   "metadata": {},
   "source": [
    "I succesfully changed data . Now i am trying this to string type of data "
   ]
  },
  {
   "cell_type": "code",
   "execution_count": 25,
   "id": "a8e5ee57-1136-4d77-b896-f9f15fa3bfa7",
   "metadata": {},
   "outputs": [],
   "source": [
    "k = \" mumbai \""
   ]
  },
  {
   "cell_type": "code",
   "execution_count": 26,
   "id": "3b3dc162-0df8-4416-b150-f92ef4564293",
   "metadata": {},
   "outputs": [
    {
     "data": {
      "text/plain": [
       "str"
      ]
     },
     "execution_count": 26,
     "metadata": {},
     "output_type": "execute_result"
    }
   ],
   "source": [
    "type (k)"
   ]
  },
  {
   "cell_type": "code",
   "execution_count": 27,
   "id": "a966191b-08f8-4bd8-8cc4-966dc6affe7f",
   "metadata": {},
   "outputs": [
    {
     "data": {
      "text/plain": [
       "' mumbai '"
      ]
     },
     "execution_count": 27,
     "metadata": {},
     "output_type": "execute_result"
    }
   ],
   "source": [
    "k"
   ]
  },
  {
   "cell_type": "markdown",
   "id": "126b04ca-d6a4-42a1-b544-fd4f05f61c64",
   "metadata": {},
   "source": [
    "Now i want to change \"mumbai\" to \"mombai\""
   ]
  },
  {
   "cell_type": "code",
   "execution_count": 28,
   "id": "b95029e3-2d71-411c-9c21-957287b60c5a",
   "metadata": {},
   "outputs": [
    {
     "ename": "NameError",
     "evalue": "name 'o' is not defined",
     "output_type": "error",
     "traceback": [
      "\u001b[0;31m---------------------------------------------------------------------------\u001b[0m",
      "\u001b[0;31mNameError\u001b[0m                                 Traceback (most recent call last)",
      "Cell \u001b[0;32mIn[28], line 1\u001b[0m\n\u001b[0;32m----> 1\u001b[0m k[\u001b[38;5;241m1\u001b[39m] \u001b[38;5;241m=\u001b[39m \u001b[43mo\u001b[49m \n",
      "\u001b[0;31mNameError\u001b[0m: name 'o' is not defined"
     ]
    }
   ],
   "source": [
    "k[1] = o "
   ]
  },
  {
   "cell_type": "markdown",
   "id": "e10365aa-38bc-46ab-b009-01b861eb6a93",
   "metadata": {},
   "source": [
    "So here i am getting error and not able to change data......"
   ]
  },
  {
   "cell_type": "markdown",
   "id": "d7e76c8e-87d5-459b-9f3f-40364d47dee8",
   "metadata": {},
   "source": [
    "Question 6 "
   ]
  },
  {
   "cell_type": "code",
   "execution_count": 3,
   "id": "e8eb88f3-dfb8-472c-bb27-be8b387b241d",
   "metadata": {},
   "outputs": [
    {
     "name": "stdout",
     "output_type": "stream",
     "text": [
      "1 is not divisible by 3\n",
      "2 is not divisible by 3\n",
      "3 is divisible by 3\n",
      "4 is not divisible by 3\n",
      "5 is not divisible by 3\n",
      "6 is divisible by 3\n",
      "7 is not divisible by 3\n",
      "8 is not divisible by 3\n",
      "9 is divisible by 3\n",
      "10 is not divisible by 3\n",
      "11 is not divisible by 3\n",
      "12 is divisible by 3\n",
      "13 is not divisible by 3\n",
      "14 is not divisible by 3\n",
      "15 is divisible by 3\n",
      "16 is not divisible by 3\n",
      "17 is not divisible by 3\n",
      "18 is divisible by 3\n",
      "19 is not divisible by 3\n",
      "20 is not divisible by 3\n",
      "21 is divisible by 3\n",
      "22 is not divisible by 3\n",
      "23 is not divisible by 3\n",
      "24 is divisible by 3\n",
      "25 is not divisible by 3\n"
     ]
    }
   ],
   "source": [
    "h = [ 1,2,3,4,5,6,7,8,9,10,11,12,13,14,15,16,17,18,19,20,21,22,23,24,25]\n",
    "\n",
    "for i in h :\n",
    "    if i % 3 == 0 :\n",
    "         print (i , \"is divisible by 3\")\n",
    "    else :\n",
    "        print (i,\"is not divisible by 3\")\n",
    "    "
   ]
  },
  {
   "cell_type": "code",
   "execution_count": 4,
   "id": "b4b9f3f1-fc14-4143-b146-87d8c64a50d0",
   "metadata": {},
   "outputs": [],
   "source": [
    "### question no 5 "
   ]
  },
  {
   "cell_type": "code",
   "execution_count": 5,
   "id": "603ddeac-a658-4170-82b4-8d2cb592ad14",
   "metadata": {},
   "outputs": [
    {
     "name": "stdout",
     "output_type": "stream",
     "text": [
      "A is divisible by B 2 times.\n"
     ]
    }
   ],
   "source": [
    "A = 25  # The number to be divided\n",
    "B = 5 # The number to divide by\n",
    "\n",
    "count = 0  # Counter variable to keep track of the divisions\n",
    "\n",
    "while A % B == 0:\n",
    "    A = A / B\n",
    "    count += 1\n",
    "\n",
    "print(\"A is divisible by B\", count, \"times.\")\n"
   ]
  },
  {
   "cell_type": "code",
   "execution_count": null,
   "id": "9bb2766d-0f62-40f9-a1b8-e383712d5ecc",
   "metadata": {},
   "outputs": [],
   "source": []
  }
 ],
 "metadata": {
  "kernelspec": {
   "display_name": "Python 3 (ipykernel)",
   "language": "python",
   "name": "python3"
  },
  "language_info": {
   "codemirror_mode": {
    "name": "ipython",
    "version": 3
   },
   "file_extension": ".py",
   "mimetype": "text/x-python",
   "name": "python",
   "nbconvert_exporter": "python",
   "pygments_lexer": "ipython3",
   "version": "3.10.8"
  }
 },
 "nbformat": 4,
 "nbformat_minor": 5
}
