{
 "cells": [
  {
   "cell_type": "markdown",
   "id": "f443b87c",
   "metadata": {},
   "source": [
    "Question.1. Which keyword is used to create a function? Create a function to return a list of odd numbers in the range of 1 to 25."
   ]
  },
  {
   "cell_type": "markdown",
   "id": "7ee6594a",
   "metadata": {},
   "source": [
    "Answer . def keyword is used to create a function ."
   ]
  },
  {
   "cell_type": "code",
   "execution_count": 1,
   "id": "7e6e4cf5",
   "metadata": {},
   "outputs": [],
   "source": [
    "l = [1,2,3,4,5,6,7,8,9,10,11,12,13,14,15,16,17,18,19,20,21,22,23,24,25]"
   ]
  },
  {
   "cell_type": "code",
   "execution_count": 2,
   "id": "1c1848ea",
   "metadata": {},
   "outputs": [
    {
     "data": {
      "text/plain": [
       "[1,\n",
       " 2,\n",
       " 3,\n",
       " 4,\n",
       " 5,\n",
       " 6,\n",
       " 7,\n",
       " 8,\n",
       " 9,\n",
       " 10,\n",
       " 11,\n",
       " 12,\n",
       " 13,\n",
       " 14,\n",
       " 15,\n",
       " 16,\n",
       " 17,\n",
       " 18,\n",
       " 19,\n",
       " 20,\n",
       " 21,\n",
       " 22,\n",
       " 23,\n",
       " 24,\n",
       " 25]"
      ]
     },
     "execution_count": 2,
     "metadata": {},
     "output_type": "execute_result"
    }
   ],
   "source": [
    "l"
   ]
  },
  {
   "cell_type": "code",
   "execution_count": 6,
   "id": "a7f6c864",
   "metadata": {},
   "outputs": [],
   "source": [
    "from functools import reduce"
   ]
  },
  {
   "cell_type": "code",
   "execution_count": 7,
   "id": "e0d1e8dc",
   "metadata": {},
   "outputs": [
    {
     "data": {
      "text/plain": [
       "[1, 3, 5, 7, 9, 11, 13, 15, 17, 19, 21, 23, 25]"
      ]
     },
     "execution_count": 7,
     "metadata": {},
     "output_type": "execute_result"
    }
   ],
   "source": [
    "list(filter(lambda x :x%2 != 0,l))"
   ]
  },
  {
   "cell_type": "markdown",
   "id": "f11e7c1b",
   "metadata": {},
   "source": [
    "Question. 2 . Why *args and **kwargs is used in some functions? create a function each for *args and **kwargs to demonstrate their use."
   ]
  },
  {
   "cell_type": "markdown",
   "id": "3b1f5fcd",
   "metadata": {},
   "source": [
    "Answer . The *args and **kwargs are special syntax in Python used to pass a variable number \n",
    "of arguments to a function. They provide flexibility when we don't know in advance how many arguments\n",
    "will be passed to the function or when we want to pass arguments without explicitly naming them."
   ]
  },
  {
   "cell_type": "code",
   "execution_count": 8,
   "id": "515c3832",
   "metadata": {},
   "outputs": [
    {
     "name": "stdout",
     "output_type": "stream",
     "text": [
      "1\n",
      "2\n",
      "3\n",
      "4\n"
     ]
    }
   ],
   "source": [
    "def my_function(*args):\n",
    "    for arg in args:\n",
    "        print(arg)\n",
    "\n",
    "my_function(1, 2, 3, 4)\n"
   ]
  },
  {
   "cell_type": "code",
   "execution_count": 10,
   "id": "37c92ba8",
   "metadata": {},
   "outputs": [
    {
     "name": "stdout",
     "output_type": "stream",
     "text": [
      "name Swaroop\n",
      "age 20\n",
      "city Nagpur\n"
     ]
    }
   ],
   "source": [
    "def my_function(**kwargs):\n",
    "    for key, value in kwargs.items():\n",
    "        print(key, value)\n",
    "\n",
    "my_function(name='Swaroop', age=20, city='Nagpur')\n"
   ]
  },
  {
   "cell_type": "markdown",
   "id": "ba0c025c",
   "metadata": {},
   "source": [
    "Question . 3 . What is an iterator in python ? Name the method used to initialise the iterator object \n",
    "and the method used for iteration. use these methods to print the first five elements of given list \n",
    "[2,4,6,8,10,12,14,16,18,20]"
   ]
  },
  {
   "cell_type": "markdown",
   "id": "807f684c",
   "metadata": {},
   "source": [
    "Answer : In Python, an iterator is an object that implements the iterator protocol, which consists\n",
    "    of the __iter__() and __next__() methods. It allows you to traverse through a sequence of elements one at a time, without loading the entire sequence into memory.\n",
    "\n",
    "To initialize an iterator object, you can use the iter() function, passing the iterable object as its argument. The iter() function returns an iterator object."
   ]
  },
  {
   "cell_type": "code",
   "execution_count": 15,
   "id": "e1c10bc7",
   "metadata": {},
   "outputs": [
    {
     "name": "stdout",
     "output_type": "stream",
     "text": [
      "2\n",
      "4\n",
      "6\n",
      "8\n",
      "10\n"
     ]
    }
   ],
   "source": [
    "my_list = [2,4,6,8,10,12,14,16,18,20]\n",
    "my_iterator = iter(my_list)\n",
    "for i in range (5):\n",
    "        num = next (my_iterator)\n",
    "        print (num)"
   ]
  },
  {
   "cell_type": "markdown",
   "id": "58867d95",
   "metadata": {},
   "source": [
    "Question.4 What is a generator  function in python ? Why yield keyword is used ? Give an example of a generator function. "
   ]
  },
  {
   "cell_type": "markdown",
   "id": "be1eab8e",
   "metadata": {},
   "source": [
    "Answer. In Python, a generator function is a special type of function that uses the yield keyword instead of return \n",
    "to generate a series of values. When a generator function is called, it returns an iterator object that \n",
    "can be iterated over to retrieve the generated values one at a time. Generator functions are useful when you\n",
    "need to generate a large sequence of values without storing them all in memory at once.\n",
    "\n",
    "The yield keyword is used in a generator function to specify the values to be generated. \n",
    "\n",
    "Here's an example of a generator function that generates a sequence of even numbers:"
   ]
  },
  {
   "cell_type": "code",
   "execution_count": 27,
   "id": "f0262830",
   "metadata": {},
   "outputs": [
    {
     "name": "stdout",
     "output_type": "stream",
     "text": [
      "0\n",
      "2\n",
      "4\n",
      "6\n",
      "8\n",
      "10\n",
      "12\n",
      "14\n",
      "16\n",
      "18\n"
     ]
    }
   ],
   "source": [
    "def even_numbers(n):\n",
    "    for i in range (n):\n",
    "        if i % 2 == 0: \n",
    "            yield i \n",
    "            \n",
    "num = even_numbers(20)\n",
    "\n",
    "for value in num:\n",
    "    print (value)"
   ]
  },
  {
   "cell_type": "markdown",
   "id": "373d3e50",
   "metadata": {},
   "source": [
    "Question . 5. Create a generator function for prime numbers less than 1000 . use the next () method to print the first 20 prime numbers."
   ]
  },
  {
   "cell_type": "code",
   "execution_count": 29,
   "id": "9e54bdb1",
   "metadata": {},
   "outputs": [
    {
     "name": "stdout",
     "output_type": "stream",
     "text": [
      "2\n",
      "3\n",
      "5\n",
      "7\n",
      "11\n",
      "13\n",
      "17\n",
      "19\n",
      "23\n",
      "29\n",
      "31\n",
      "37\n",
      "41\n",
      "43\n",
      "47\n",
      "53\n",
      "59\n",
      "61\n",
      "67\n",
      "71\n"
     ]
    }
   ],
   "source": [
    " def primes():\n",
    "    num = 2\n",
    "    while True:\n",
    "        if all(num % i != 0 for i in range(2, int(num ** 0.5) + 1)):\n",
    "            yield num\n",
    "        num += 1\n",
    "\n",
    "# Using the generator function\n",
    "prime_generator = primes()\n",
    "\n",
    "# Print the first 20 prime numbers\n",
    "for _ in range(20):\n",
    "    prime = next(prime_generator)\n",
    "    print(prime)\n"
   ]
  },
  {
   "cell_type": "markdown",
   "id": "b57b3c68",
   "metadata": {},
   "source": [
    "Question . 6 . Write a python program to print the first 10 fibonacci numbers using a while loop."
   ]
  },
  {
   "cell_type": "code",
   "execution_count": 30,
   "id": "7ef06f95",
   "metadata": {},
   "outputs": [
    {
     "name": "stdout",
     "output_type": "stream",
     "text": [
      "0\n",
      "1\n",
      "1\n",
      "2\n",
      "3\n",
      "5\n",
      "8\n",
      "13\n",
      "21\n",
      "34\n"
     ]
    }
   ],
   "source": [
    "# Function to print the first 10 Fibonacci numbers\n",
    "def print_fibonacci():\n",
    "    num1, num2 = 0, 1\n",
    "    count = 0\n",
    "\n",
    "    while count < 10:\n",
    "        print(num1)\n",
    "\n",
    "        num1, num2 = num2, num1 + num2\n",
    "        count += 1\n",
    "\n",
    "# Call the function to print Fibonacci numbers\n",
    "print_fibonacci()\n"
   ]
  },
  {
   "cell_type": "markdown",
   "id": "55250f47",
   "metadata": {},
   "source": [
    "Q. 7 . Write a list comprehension to iterate through the given string : \"pwskills\"\n",
    "expected output : ['p','w','s','k','i''l','l','s']"
   ]
  },
  {
   "cell_type": "code",
   "execution_count": 31,
   "id": "dc2ceb54",
   "metadata": {},
   "outputs": [],
   "source": [
    "l = \"pwskills\""
   ]
  },
  {
   "cell_type": "code",
   "execution_count": 34,
   "id": "c4f18f05",
   "metadata": {},
   "outputs": [
    {
     "data": {
      "text/plain": [
       "['p', 'w', 's', 'k', 'i', 'l', 'l', 's']"
      ]
     },
     "execution_count": 34,
     "metadata": {},
     "output_type": "execute_result"
    }
   ],
   "source": [
    "list(map(lambda l:l.lower(),l))"
   ]
  },
  {
   "cell_type": "markdown",
   "id": "9372b721",
   "metadata": {},
   "source": [
    "Q.8. Write a python program to check wheather a given number is palindrome or not using a while loop."
   ]
  },
  {
   "cell_type": "code",
   "execution_count": 35,
   "id": "bf6fdf5b",
   "metadata": {},
   "outputs": [
    {
     "name": "stdout",
     "output_type": "stream",
     "text": [
      "Enter a number: 45\n",
      "45 is not a palindrome.\n"
     ]
    }
   ],
   "source": [
    "def is_palindrome(number):\n",
    "    temp = number\n",
    "    reverse = 0\n",
    "\n",
    "    while temp > 0:\n",
    "        digit = temp % 10\n",
    "        reverse = reverse * 10 + digit\n",
    "        temp //= 10\n",
    "\n",
    "    if number == reverse:\n",
    "        return True\n",
    "    else:\n",
    "        return False\n",
    "\n",
    "# Example usage\n",
    "number = int(input(\"Enter a number: \"))\n",
    "\n",
    "if is_palindrome(number):\n",
    "    print(f\"{number} is a palindrome.\")\n",
    "else:\n",
    "    print(f\"{number} is not a palindrome.\")\n"
   ]
  },
  {
   "cell_type": "markdown",
   "id": "e4379f2e",
   "metadata": {},
   "source": [
    "Q . 9 . Write a code to print odd numbers from 1 to 100 using a list comprehension"
   ]
  },
  {
   "cell_type": "code",
   "execution_count": 36,
   "id": "f39ee6ed",
   "metadata": {},
   "outputs": [
    {
     "name": "stdout",
     "output_type": "stream",
     "text": [
      "[1, 3, 5, 7, 9, 11, 13, 15, 17, 19, 21, 23, 25, 27, 29, 31, 33, 35, 37, 39, 41, 43, 45, 47, 49, 51, 53, 55, 57, 59, 61, 63, 65, 67, 69, 71, 73, 75, 77, 79, 81, 83, 85, 87, 89, 91, 93, 95, 97, 99]\n"
     ]
    }
   ],
   "source": [
    "odd_numbers = [num for num in range(1, 101) if num % 2 != 0]\n",
    "\n",
    "print(odd_numbers)\n"
   ]
  },
  {
   "cell_type": "code",
   "execution_count": null,
   "id": "3bc8756c",
   "metadata": {},
   "outputs": [],
   "source": []
  }
 ],
 "metadata": {
  "kernelspec": {
   "display_name": "Python 3 (ipykernel)",
   "language": "python",
   "name": "python3"
  },
  "language_info": {
   "codemirror_mode": {
    "name": "ipython",
    "version": 3
   },
   "file_extension": ".py",
   "mimetype": "text/x-python",
   "name": "python",
   "nbconvert_exporter": "python",
   "pygments_lexer": "ipython3",
   "version": "3.9.12"
  }
 },
 "nbformat": 4,
 "nbformat_minor": 5
}
