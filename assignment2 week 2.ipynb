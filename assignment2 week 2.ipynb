{
 "cells": [
  {
   "cell_type": "markdown",
   "id": "4e7e25ec",
   "metadata": {},
   "source": [
    "Q .1. How do you comment code in python ? What are the different types of comments?"
   ]
  },
  {
   "cell_type": "markdown",
   "id": "2ea1f071",
   "metadata": {},
   "source": [
    " Answer : I can add comments to my code using \"#\" this special charactar. Anything after the \"#\" symbol is considered a comment.\n",
    " \n",
    " There are only two types of comment : \n",
    " 1 . single-line comments\n",
    " 2 . multi-line comments"
   ]
  },
  {
   "cell_type": "code",
   "execution_count": 1,
   "id": "0db640bc",
   "metadata": {},
   "outputs": [],
   "source": [
    "### hello everyone ----------- "
   ]
  },
  {
   "cell_type": "markdown",
   "id": "50851de7",
   "metadata": {},
   "source": [
    "This is comment"
   ]
  },
  {
   "cell_type": "markdown",
   "id": "33c001d1",
   "metadata": {},
   "source": [
    "Q2 . What are variables in python? How do you declare and assign values to variables?"
   ]
  },
  {
   "cell_type": "markdown",
   "id": "e2d695f9",
   "metadata": {},
   "source": [
    "Answer : variables are used to store data values. they store information like \"string\",\"int\" etc..."
   ]
  },
  {
   "cell_type": "code",
   "execution_count": 3,
   "id": "7700c8df",
   "metadata": {},
   "outputs": [],
   "source": [
    "name = \"swaroop\""
   ]
  },
  {
   "cell_type": "markdown",
   "id": "2e44177f",
   "metadata": {},
   "source": [
    "To declare and assign values to variables in Python, you simply need to\n",
    "choose a name for the variable and use the assignment operator (=) to assign a value to it. just like that i shown in example ."
   ]
  },
  {
   "cell_type": "markdown",
   "id": "9825a33e",
   "metadata": {},
   "source": [
    "Q3. How do you convert one data type to another in python ?"
   ]
  },
  {
   "cell_type": "markdown",
   "id": "7457eb46",
   "metadata": {},
   "source": [
    "Answer : Now i am going to convert number = \"345\" to integer. string data type to integer "
   ]
  },
  {
   "cell_type": "code",
   "execution_count": 4,
   "id": "f61c9406",
   "metadata": {},
   "outputs": [
    {
     "name": "stdout",
     "output_type": "stream",
     "text": [
      "345\n"
     ]
    }
   ],
   "source": [
    "num = \"345\"\n",
    "converted_num = int(num)\n",
    "print(converted_num) \n"
   ]
  },
  {
   "cell_type": "markdown",
   "id": "dc0a418d",
   "metadata": {},
   "source": [
    "Q5 . Given a list my_list = [1,2,3,4,5],write the code to slice the list and obtain the sub_list[2,3]"
   ]
  },
  {
   "cell_type": "code",
   "execution_count": 6,
   "id": "55816b89",
   "metadata": {},
   "outputs": [
    {
     "name": "stdout",
     "output_type": "stream",
     "text": [
      "[2, 3]\n"
     ]
    }
   ],
   "source": [
    "my_list = [1, 2, 3, 4, 5]\n",
    "sub_list = my_list[1:3]\n",
    "print(sub_list) \n"
   ]
  },
  {
   "cell_type": "markdown",
   "id": "b8f24e59",
   "metadata": {},
   "source": [
    "Q10. Given the string \"Hello,World!\", extract the substring \"World\"."
   ]
  },
  {
   "cell_type": "code",
   "execution_count": 11,
   "id": "7fba33d4",
   "metadata": {},
   "outputs": [],
   "source": [
    "s = \"Hello,World!\""
   ]
  },
  {
   "cell_type": "code",
   "execution_count": 12,
   "id": "c729671f",
   "metadata": {},
   "outputs": [
    {
     "data": {
      "text/plain": [
       "'World'"
      ]
     },
     "execution_count": 12,
     "metadata": {},
     "output_type": "execute_result"
    }
   ],
   "source": [
    "s [6:11]"
   ]
  },
  {
   "cell_type": "markdown",
   "id": "d8b3ad42",
   "metadata": {},
   "source": [
    "Q.6 What is a complex number in mathematics , and how is it represented in python?"
   ]
  },
  {
   "cell_type": "markdown",
   "id": "a42d7c2d",
   "metadata": {},
   "source": [
    "Answer : In mathematics, a complex number is a number that comprises both a real part and an imaginary part. It is usually represented in the form a + bi, where \"a\" represents the real part and \"b\" represents the imaginary part. The imaginary unit \"i\" is defined as the square root of -1."
   ]
  },
  {
   "cell_type": "code",
   "execution_count": 3,
   "id": "fec3c3e8",
   "metadata": {},
   "outputs": [],
   "source": [
    "a = 4+5j"
   ]
  },
  {
   "cell_type": "code",
   "execution_count": 4,
   "id": "ed40d928",
   "metadata": {},
   "outputs": [
    {
     "data": {
      "text/plain": [
       "complex"
      ]
     },
     "execution_count": 4,
     "metadata": {},
     "output_type": "execute_result"
    }
   ],
   "source": [
    "type(a)"
   ]
  },
  {
   "cell_type": "markdown",
   "id": "87ca6f1c",
   "metadata": {},
   "source": [
    "Q.7 what is a correct way to declare a variable named age and assign the value 25 to it?"
   ]
  },
  {
   "cell_type": "code",
   "execution_count": 5,
   "id": "ca6f9c5e",
   "metadata": {},
   "outputs": [],
   "source": [
    "Age = 25 "
   ]
  },
  {
   "cell_type": "markdown",
   "id": "3dab190c",
   "metadata": {},
   "source": [
    "Q.8 Declare a variable named price and assign the value 9.99 to it . What data type does the variable belong to ?"
   ]
  },
  {
   "cell_type": "code",
   "execution_count": 7,
   "id": "fa67394d",
   "metadata": {},
   "outputs": [],
   "source": [
    "Named_price = 9.99"
   ]
  },
  {
   "cell_type": "code",
   "execution_count": 9,
   "id": "e4b05c33",
   "metadata": {},
   "outputs": [
    {
     "data": {
      "text/plain": [
       "float"
      ]
     },
     "execution_count": 9,
     "metadata": {},
     "output_type": "execute_result"
    }
   ],
   "source": [
    "type(Named_price)"
   ]
  },
  {
   "cell_type": "markdown",
   "id": "4103fc9c",
   "metadata": {},
   "source": [
    "It belogs to float"
   ]
  },
  {
   "cell_type": "markdown",
   "id": "510aa75e",
   "metadata": {},
   "source": [
    "Q.9 Create a variable named name and assign your full name to it as a string . How would you print the value of this variable?"
   ]
  },
  {
   "cell_type": "code",
   "execution_count": 10,
   "id": "50295e8d",
   "metadata": {},
   "outputs": [],
   "source": [
    "Named_name = \"Swaroop Suresh Kale\""
   ]
  },
  {
   "cell_type": "code",
   "execution_count": 13,
   "id": "925a7c04",
   "metadata": {},
   "outputs": [
    {
     "name": "stdout",
     "output_type": "stream",
     "text": [
      "Swaroop Suresh Kale\n"
     ]
    }
   ],
   "source": [
    "print(Named_name)"
   ]
  },
  {
   "cell_type": "markdown",
   "id": "dea91cd9",
   "metadata": {},
   "source": [
    "Q.11 Create a variable named \"is_student\"and assign it a boolean value indicating whether you are currently a student or not . "
   ]
  },
  {
   "cell_type": "code",
   "execution_count": 14,
   "id": "9bf5d533",
   "metadata": {},
   "outputs": [],
   "source": [
    "is_student = True "
   ]
  },
  {
   "cell_type": "markdown",
   "id": "7a1fde1e",
   "metadata": {},
   "source": [
    "Q.4 How do you write and execute a python script from a command line ?"
   ]
  },
  {
   "cell_type": "markdown",
   "id": "c5ea62f0",
   "metadata": {},
   "source": [
    "Answer : 1 . Open a text editor or an Integrated Development Environment (IDE) to write your Python script. Create a new file and save it with a .py extension, such as script.py. This extension indicates that it is a Python script.\n",
    "\n",
    "2 . In the text editor or IDE, write your Python code in the file. For example, you can write a simple script that prints \"Hello, World!\" to the console:\n",
    "\n",
    "3 .  Save the file after writing your code.\n",
    "\n",
    "4 . Open a command prompt or terminal on your operating system.\n",
    "\n",
    "5 . Navigate to the directory where your Python script (script.py) is located using the cd command. For example, if your script is in the Documents folder, you can use the following command in the command prompt or terminal:\n",
    "\n",
    "6 . Once you are in the correct directory, you can execute the Python script by typing python followed by the script's filename:\n",
    "\n",
    "7 . This command will execute the Python script, and the output, if any, will be displayed in the command prompt or terminal.\n",
    "\n",
    "That's it! You have written and executed a Python script from the command line. Make sure you have Python installed on your system and the python command is set in your system's PATH variable for the command to work.\n"
   ]
  }
 ],
 "metadata": {
  "kernelspec": {
   "display_name": "Python 3 (ipykernel)",
   "language": "python",
   "name": "python3"
  },
  "language_info": {
   "codemirror_mode": {
    "name": "ipython",
    "version": 3
   },
   "file_extension": ".py",
   "mimetype": "text/x-python",
   "name": "python",
   "nbconvert_exporter": "python",
   "pygments_lexer": "ipython3",
   "version": "3.9.12"
  }
 },
 "nbformat": 4,
 "nbformat_minor": 5
}
