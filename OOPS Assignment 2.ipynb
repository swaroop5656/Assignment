{
 "cells": [
  {
   "cell_type": "markdown",
   "id": "c392a76d",
   "metadata": {},
   "source": [
    "Q1. What is Abstraction in OOps? Explain with an example."
   ]
  },
  {
   "cell_type": "markdown",
   "id": "a487f956",
   "metadata": {},
   "source": [
    "Answer :\n",
    "Abstraction is a fundamental concept in object-oriented programming (OOP) that focuses on creating simplified, abstract representations of complex systems. It \n",
    "involves hiding unnecessary details and exposing only the essential features and functionalities to the user.\n",
    "\n",
    "In OOP, abstraction allows you to define classes and objects that provide a clear and concise interface for \n",
    "interacting with the underlying system. It separates the implementation details from \n",
    "the user's perspective, making the system more manageable, modular, and easier to understand."
   ]
  },
  {
   "cell_type": "code",
   "execution_count": 1,
   "id": "5d41b43f",
   "metadata": {},
   "outputs": [
    {
     "name": "stdout",
     "output_type": "stream",
     "text": [
      "Dog barks.\n",
      "Cat meows.\n"
     ]
    }
   ],
   "source": [
    "\n",
    "from abc import ABC, abstractmethod\n",
    "\n",
    "class Animal(ABC):\n",
    "    @abstractmethod\n",
    "    def make_sound(self):\n",
    "        pass\n",
    "\n",
    "\n",
    "class Dog(Animal):\n",
    "    def make_sound(self):\n",
    "        print(\"Dog barks.\")\n",
    "\n",
    "class Cat(Animal):\n",
    "    def make_sound(self):\n",
    "        print(\"Cat meows.\")\n",
    "\n",
    "\n",
    "dog = Dog()\n",
    "cat = Cat()\n",
    "\n",
    "\n",
    "dog.make_sound() \n",
    "cat.make_sound()  \n"
   ]
  },
  {
   "cell_type": "markdown",
   "id": "8ce89b45",
   "metadata": {},
   "source": [
    "Q2. Differentiate between Abstraction and Encapsulation. Explain with an example."
   ]
  },
  {
   "cell_type": "markdown",
   "id": "89c4da19",
   "metadata": {},
   "source": [
    "Answer. Abstraction:\n",
    "\n",
    "1 . Abstraction focuses on providing a simplified, high-level view of an entity or system by hiding unnecessary details.\n",
    "2 . It involves defining interfaces and behaviors without specifying the internal implementation.\n",
    "3 . Abstraction deals with the \"what\" of an entity, defining its essential characteristics and functionalities.\n",
    "4 . It allows users to interact with objects through a well-defined interface, without needing to know the internal complexities.\n",
    "5 . Abstraction is achieved through abstract classes, interfaces, and other mechanisms that define contracts and provide a level of behavior that must be implemented by derived classes.\n",
    "6 . The primary goal of abstraction is to manage complexity, improve code modularity, and make the system easier to understand and use.\n",
    "\n",
    "\n",
    "Encapsulation:\n",
    "\n",
    "1 . Encapsulation focuses on bundling related data (attributes) and behaviors (methods) together within a class, and restricting access to the internal implementation details.\n",
    "2 . It involves hiding the internal state of an object and providing controlled access to it through methods.\n",
    "3 . Encapsulation deals with the \"how\" of an entity, specifying how the data is stored, manipulated, and accessed.\n",
    "4 . It helps in ensuring data integrity, promoting information hiding, and preventing direct manipulation of object attributes from outside the class.\n",
    "5 . Encapsulation is achieved by using access modifiers (e.g., public, private, protected) to control the visibility of attributes and methods, and by providing getter and setter methods to access and modify the object's state.\n",
    "6 . The primary goal of encapsulation is to encapsulate related data and behaviors within a class, ensuring proper data access and maintaining the integrity of the object's state."
   ]
  },
  {
   "cell_type": "code",
   "execution_count": 2,
   "id": "3e630569",
   "metadata": {},
   "outputs": [
    {
     "name": "stdout",
     "output_type": "stream",
     "text": [
      "Car engine started.\n",
      "Motorcycle engine started.\n"
     ]
    }
   ],
   "source": [
    "# Abstraction example\n",
    "from abc import ABC, abstractmethod\n",
    "\n",
    "class Vehicle(ABC):\n",
    "    @abstractmethod\n",
    "    def start_engine(self):\n",
    "        pass\n",
    "\n",
    "class Car(Vehicle):\n",
    "    def start_engine(self):\n",
    "        print(\"Car engine started.\")\n",
    "\n",
    "class Motorcycle(Vehicle):\n",
    "    def start_engine(self):\n",
    "        print(\"Motorcycle engine started.\")\n",
    "\n",
    "car = Car()\n",
    "car.start_engine()  \n",
    "\n",
    "motorcycle = Motorcycle()\n",
    "motorcycle.start_engine()  \n"
   ]
  },
  {
   "cell_type": "code",
   "execution_count": 3,
   "id": "f82c0232",
   "metadata": {},
   "outputs": [
    {
     "name": "stdout",
     "output_type": "stream",
     "text": [
      "5000\n",
      "6000\n"
     ]
    },
    {
     "ename": "AttributeError",
     "evalue": "'Employee' object has no attribute '__salary'",
     "output_type": "error",
     "traceback": [
      "\u001b[1;31m---------------------------------------------------------------------------\u001b[0m",
      "\u001b[1;31mAttributeError\u001b[0m                            Traceback (most recent call last)",
      "Input \u001b[1;32mIn [3]\u001b[0m, in \u001b[0;36m<cell line: 21>\u001b[1;34m()\u001b[0m\n\u001b[0;32m     18\u001b[0m employee\u001b[38;5;241m.\u001b[39mset_salary(\u001b[38;5;241m6000\u001b[39m)\n\u001b[0;32m     19\u001b[0m \u001b[38;5;28mprint\u001b[39m(employee\u001b[38;5;241m.\u001b[39mget_salary()) \n\u001b[1;32m---> 21\u001b[0m \u001b[38;5;28mprint\u001b[39m(\u001b[43memployee\u001b[49m\u001b[38;5;241;43m.\u001b[39;49m\u001b[43m__salary\u001b[49m)\n",
      "\u001b[1;31mAttributeError\u001b[0m: 'Employee' object has no attribute '__salary'"
     ]
    }
   ],
   "source": [
    "# Encapsulation example\n",
    "class Employee:\n",
    "    def __init__(self, emp_id, name, salary):\n",
    "        self.emp_id = emp_id\n",
    "        self.name = name\n",
    "        self.__salary = salary\n",
    "\n",
    "    def get_salary(self):\n",
    "        return self.__salary\n",
    "\n",
    "    def set_salary(self, new_salary):\n",
    "        if new_salary > 0:\n",
    "            self.__salary = new_salary\n",
    "\n",
    "employee = Employee(1, \"John Doe\", 5000)\n",
    "print(employee.get_salary()) \n",
    "\n",
    "employee.set_salary(6000)\n",
    "print(employee.get_salary()) \n",
    "\n",
    "print(employee.__salary)  \n"
   ]
  },
  {
   "cell_type": "markdown",
   "id": "87dd750d",
   "metadata": {},
   "source": [
    "Q3. What is abc module in python? Why is it used?"
   ]
  },
  {
   "cell_type": "markdown",
   "id": "84f5342b",
   "metadata": {},
   "source": [
    "Answer . The abc module in Python stands for \"Abstract Base Classes.\" It provides infrastructure for defining abstract base classes, which are classes that cannot be instantiated themselves but serve as templates for other classes to inherit from.\n",
    "\n",
    "The abc module is used for creating abstract classes and enforcing a certain level of behavior and structure on the derived classes. It helps in implementing abstraction and defining contracts that derived classes must follow. Here are some key points about the abc module and its usage:\n",
    "\n",
    "1 . Abstract Base Class (ABC): An abstract base class is created by inheriting from the ABC class provided by the abc module. It serves as a template for derived classes and provides a way to define common attributes and methods that derived classes must implement.\n",
    "\n",
    "2 . Abstract Methods: An abstract method is defined using the @abstractmethod decorator provided by the abc module. These methods do not have an implementation in the abstract base class but must be implemented by any derived class. Abstract methods define a contract that derived classes must fulfill.\n",
    "\n",
    "3 . Enforcing Interface: By defining abstract methods in an abstract base class, the abc module enforces the derived classes to implement those methods. If a derived class does not implement an abstract method, it will raise an error at runtime.\n",
    "\n",
    "4 . Subclassing and Type Checking: The abc module provides mechanisms to check whether a class is a subclass of an abstract base class using functions like issubclass() and isinstance(). This allows for type checking and ensures that a certain level of behavior is present in the objects.\n",
    "\n",
    "The abc module is used in scenarios where you want to define a common interface or behavior that multiple classes must adhere to. It helps in designing and implementing robust class hierarchies and promoting code reuse."
   ]
  },
  {
   "cell_type": "code",
   "execution_count": 4,
   "id": "798bd288",
   "metadata": {},
   "outputs": [
    {
     "name": "stdout",
     "output_type": "stream",
     "text": [
      "15\n",
      "16\n"
     ]
    },
    {
     "ename": "TypeError",
     "evalue": "Can't instantiate abstract class Shape with abstract methods area, perimeter",
     "output_type": "error",
     "traceback": [
      "\u001b[1;31m---------------------------------------------------------------------------\u001b[0m",
      "\u001b[1;31mTypeError\u001b[0m                                 Traceback (most recent call last)",
      "Input \u001b[1;32mIn [4]\u001b[0m, in \u001b[0;36m<cell line: 26>\u001b[1;34m()\u001b[0m\n\u001b[0;32m     24\u001b[0m \u001b[38;5;28mprint\u001b[39m(rect\u001b[38;5;241m.\u001b[39marea())       \n\u001b[0;32m     25\u001b[0m \u001b[38;5;28mprint\u001b[39m(rect\u001b[38;5;241m.\u001b[39mperimeter()) \n\u001b[1;32m---> 26\u001b[0m shape \u001b[38;5;241m=\u001b[39m \u001b[43mShape\u001b[49m\u001b[43m(\u001b[49m\u001b[43m)\u001b[49m\n",
      "\u001b[1;31mTypeError\u001b[0m: Can't instantiate abstract class Shape with abstract methods area, perimeter"
     ]
    }
   ],
   "source": [
    "from abc import ABC, abstractmethod\n",
    "\n",
    "class Shape(ABC):\n",
    "    @abstractmethod\n",
    "    def area(self):\n",
    "        pass\n",
    "\n",
    "    @abstractmethod\n",
    "    def perimeter(self):\n",
    "        pass\n",
    "\n",
    "class Rectangle(Shape):\n",
    "    def __init__(self, length, width):\n",
    "        self.length = length\n",
    "        self.width = width\n",
    "\n",
    "    def area(self):\n",
    "        return self.length * self.width\n",
    "\n",
    "    def perimeter(self):\n",
    "        return 2 * (self.length + self.width)\n",
    "\n",
    "rect = Rectangle(5, 3)\n",
    "print(rect.area())       \n",
    "print(rect.perimeter()) \n",
    "shape = Shape() \n"
   ]
  },
  {
   "cell_type": "markdown",
   "id": "22e0a7ae",
   "metadata": {},
   "source": [
    "Q4. How can we achieve data abstraction?"
   ]
  },
  {
   "cell_type": "markdown",
   "id": "90963c16",
   "metadata": {},
   "source": [
    "Answer . Data abstraction can be achieved in Python through the use of classes and objects. Here are the steps to achieve data abstraction:\n",
    "\n",
    "1 . Define a Class: Start by defining a class that represents the abstraction you want to create. The class should encapsulate the data and methods related to the abstraction.\n",
    "\n",
    "2 . Encapsulate Data: Encapsulate the data associated with the abstraction by declaring class attributes. These attributes should represent the properties or characteristics of the abstraction. You can use access modifiers (such as private attributes) to control the visibility and access to the data.\n",
    "\n",
    "3 . Define Methods: Define methods within the class to provide functionality and operations related to the abstraction. These methods can manipulate the data, perform computations, or provide access to the data.\n",
    "\n",
    "4 .Hide Internal Implementation: Hide the internal implementation details of the class by using access modifiers and providing controlled access to the data through methods. This ensures that the data is accessed and modified through well-defined interfaces, promoting data integrity and preventing direct manipulation.\n",
    "\n",
    "5 . Use Objects: Create objects of the class to work with the abstraction. Interact with the objects using the methods provided by the class. The objects will provide a simplified interface to work with the abstraction while hiding the complexities of the internal implementation."
   ]
  },
  {
   "cell_type": "code",
   "execution_count": 5,
   "id": "1d5f90a6",
   "metadata": {},
   "outputs": [
    {
     "name": "stdout",
     "output_type": "stream",
     "text": [
      "1300\n"
     ]
    },
    {
     "ename": "AttributeError",
     "evalue": "'BankAccount' object has no attribute '__balance'",
     "output_type": "error",
     "traceback": [
      "\u001b[1;31m---------------------------------------------------------------------------\u001b[0m",
      "\u001b[1;31mAttributeError\u001b[0m                            Traceback (most recent call last)",
      "Input \u001b[1;32mIn [5]\u001b[0m, in \u001b[0;36m<cell line: 27>\u001b[1;34m()\u001b[0m\n\u001b[0;32m     23\u001b[0m account\u001b[38;5;241m.\u001b[39mwithdraw(\u001b[38;5;241m200\u001b[39m)\n\u001b[0;32m     24\u001b[0m \u001b[38;5;28mprint\u001b[39m(account\u001b[38;5;241m.\u001b[39mget_balance())  \n\u001b[1;32m---> 27\u001b[0m \u001b[38;5;28mprint\u001b[39m(\u001b[43maccount\u001b[49m\u001b[38;5;241;43m.\u001b[39;49m\u001b[43m__balance\u001b[49m)\n",
      "\u001b[1;31mAttributeError\u001b[0m: 'BankAccount' object has no attribute '__balance'"
     ]
    }
   ],
   "source": [
    "class BankAccount:\n",
    "    def __init__(self, account_number, balance):\n",
    "        self.__account_number = account_number\n",
    "        self.__balance = balance\n",
    "\n",
    "    def deposit(self, amount):\n",
    "        self.__balance += amount\n",
    "\n",
    "    def withdraw(self, amount):\n",
    "        if self.__balance >= amount:\n",
    "            self.__balance -= amount\n",
    "        else:\n",
    "            print(\"Insufficient balance.\")\n",
    "\n",
    "    def get_balance(self):\n",
    "        return self.__balance\n",
    "\n",
    "\n",
    "account = BankAccount(\"123456789\", 1000)\n",
    "\n",
    "\n",
    "account.deposit(500)\n",
    "account.withdraw(200)\n",
    "print(account.get_balance())  \n",
    "\n",
    "\n",
    "print(account.__balance)  \n"
   ]
  },
  {
   "cell_type": "markdown",
   "id": "b98d65d3",
   "metadata": {},
   "source": [
    "Q5. Can we create an instance of an abstract class? Explain your answer."
   ]
  },
  {
   "cell_type": "markdown",
   "id": "3549d558",
   "metadata": {},
   "source": [
    "Answer . No, we cannot create an instance of an abstract class in Python. Abstract classes serve as templates or blueprints for other classes to inherit from, but they cannot be instantiated directly.\n",
    "\n",
    "An abstract class is a class that contains one or more abstract methods. An abstract method is a method declared in the abstract class but does not have an implementation. It only provides a method signature or contract that derived classes must implement.\n",
    "\n",
    "The purpose of an abstract class is to define common characteristics and behaviors that derived classes should have. It acts as a guide for the derived classes to follow the defined contract. Therefore, it doesn't make sense to create instances of an abstract class because it lacks complete implementation."
   ]
  },
  {
   "cell_type": "code",
   "execution_count": 8,
   "id": "77c8f340",
   "metadata": {},
   "outputs": [
    {
     "ename": "TypeError",
     "evalue": "Can't instantiate abstract class AbstractClass with abstract method abstract_method",
     "output_type": "error",
     "traceback": [
      "\u001b[1;31m---------------------------------------------------------------------------\u001b[0m",
      "\u001b[1;31mTypeError\u001b[0m                                 Traceback (most recent call last)",
      "Input \u001b[1;32mIn [8]\u001b[0m, in \u001b[0;36m<cell line: 9>\u001b[1;34m()\u001b[0m\n\u001b[0;32m      4\u001b[0m     \u001b[38;5;129m@abstractmethod\u001b[39m\n\u001b[0;32m      5\u001b[0m     \u001b[38;5;28;01mdef\u001b[39;00m \u001b[38;5;21mabstract_method\u001b[39m(\u001b[38;5;28mself\u001b[39m):\n\u001b[0;32m      6\u001b[0m         \u001b[38;5;28;01mpass\u001b[39;00m\n\u001b[1;32m----> 9\u001b[0m instance \u001b[38;5;241m=\u001b[39m \u001b[43mAbstractClass\u001b[49m\u001b[43m(\u001b[49m\u001b[43m)\u001b[49m\n",
      "\u001b[1;31mTypeError\u001b[0m: Can't instantiate abstract class AbstractClass with abstract method abstract_method"
     ]
    }
   ],
   "source": [
    "from abc import ABC, abstractmethod\n",
    "\n",
    "class AbstractClass(ABC):\n",
    "    @abstractmethod\n",
    "    def abstract_method(self):\n",
    "        pass\n",
    "\n",
    "\n",
    "instance = AbstractClass() \n"
   ]
  },
  {
   "cell_type": "code",
   "execution_count": null,
   "id": "c2ae2e30",
   "metadata": {},
   "outputs": [],
   "source": []
  }
 ],
 "metadata": {
  "kernelspec": {
   "display_name": "Python 3 (ipykernel)",
   "language": "python",
   "name": "python3"
  },
  "language_info": {
   "codemirror_mode": {
    "name": "ipython",
    "version": 3
   },
   "file_extension": ".py",
   "mimetype": "text/x-python",
   "name": "python",
   "nbconvert_exporter": "python",
   "pygments_lexer": "ipython3",
   "version": "3.9.12"
  }
 },
 "nbformat": 4,
 "nbformat_minor": 5
}
