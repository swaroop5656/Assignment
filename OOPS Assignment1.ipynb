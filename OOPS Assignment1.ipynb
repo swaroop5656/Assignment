{
 "cells": [
  {
   "cell_type": "markdown",
   "id": "00aa17c8",
   "metadata": {},
   "source": [
    "Q1. Explain Class and Object with respect to Object-Oriented Programming. Give a suitable example."
   ]
  },
  {
   "cell_type": "code",
   "execution_count": 3,
   "id": "eecac06a",
   "metadata": {},
   "outputs": [],
   "source": [
    "class cars:\n",
    "    def __init__(self ,name, model):\n",
    "        self.name = name\n",
    "        self.model = model\n",
    "        \n",
    "    def car_details():\n",
    "        print (self.name,self.model)\n",
    "        "
   ]
  },
  {
   "cell_type": "code",
   "execution_count": 7,
   "id": "5895d426",
   "metadata": {},
   "outputs": [],
   "source": [
    "c = cars('hyndai','xcent')"
   ]
  },
  {
   "cell_type": "code",
   "execution_count": 10,
   "id": "eff51940",
   "metadata": {},
   "outputs": [
    {
     "data": {
      "text/plain": [
       "'hyndai'"
      ]
     },
     "execution_count": 10,
     "metadata": {},
     "output_type": "execute_result"
    }
   ],
   "source": [
    "c.name"
   ]
  },
  {
   "cell_type": "code",
   "execution_count": 12,
   "id": "6b9eeea6",
   "metadata": {},
   "outputs": [
    {
     "data": {
      "text/plain": [
       "'xcent'"
      ]
     },
     "execution_count": 12,
     "metadata": {},
     "output_type": "execute_result"
    }
   ],
   "source": [
    "c.model"
   ]
  },
  {
   "cell_type": "markdown",
   "id": "6aed00d6",
   "metadata": {},
   "source": [
    "Q2. Name the four pillars of OOPs."
   ]
  },
  {
   "cell_type": "markdown",
   "id": "ec69a539",
   "metadata": {},
   "source": [
    "Answer . The four pillars of OOP are:\n",
    "\n",
    "1. Encapsulation\n",
    "2. Inheritance\n",
    "3. Polymorphism\n",
    "4. Abstraction"
   ]
  },
  {
   "cell_type": "markdown",
   "id": "dccd4d43",
   "metadata": {},
   "source": [
    "Q3. Explain why the __init__() function is used. Give a suitable example."
   ]
  },
  {
   "cell_type": "markdown",
   "id": "a01fdd51",
   "metadata": {},
   "source": [
    "Answer . The __init__() function, also known as the constructor, is used in Python classes to initialize the attributes of an object when it is created. It is automatically called when an object is instantiated from a class.\n",
    "\n",
    "The primary purpose of the __init__() function is to set up the initial state of the object by assigning values to its attributes. It allows you to provide initial values or perform any necessary setup operations before the object is ready for use."
   ]
  },
  {
   "cell_type": "code",
   "execution_count": 1,
   "id": "fea480f2",
   "metadata": {},
   "outputs": [
    {
     "name": "stdout",
     "output_type": "stream",
     "text": [
      "John\n",
      "25\n",
      "Hello, my name is John and I am 25 years old.\n"
     ]
    }
   ],
   "source": [
    "class Person:\n",
    "    def __init__(self, name, age):\n",
    "        self.name = name\n",
    "        self.age = age\n",
    "\n",
    "    def introduce(self):\n",
    "        print(\"Hello, my name is\", self.name, \"and I am\", self.age, \"years old.\")\n",
    "\n",
    "\n",
    "person1 = Person(\"John\", 25)\n",
    "\n",
    "print(person1.name)  \n",
    "print(person1.age)   \n",
    "\n",
    "\n",
    "person1.introduce()  \n"
   ]
  },
  {
   "cell_type": "markdown",
   "id": "6c9e536a",
   "metadata": {},
   "source": [
    "Q4. Why self is used in OOPs?"
   ]
  },
  {
   "cell_type": "markdown",
   "id": "34d02824",
   "metadata": {},
   "source": [
    "In object-oriented programming (OOP), `self` is used as a convention to refer to the instance of a class within its own methods. It is a reference to the current object or the object on which a method is being invoked.\n",
    "\n",
    "The `self` parameter allows you to access and manipulate the attributes and methods of the object within the class. It acts as a way to differentiate between the instance variables of the class and the parameters or variables local to a particular method.\n",
    "\n",
    "Here are the main reasons why `self` is used in OOP:\n",
    "\n",
    "1. Instance Context: Each object created from a class has its own unique set of attributes and state. The `self` parameter provides a way to access and work with the specific attributes and methods of the current instance within the class methods. It allows you to refer to the object's own data and behavior.\n",
    "\n",
    "2. Attribute Access: By using `self`, you can access the instance attributes of an object. For example, `self.attribute_name` allows you to access and modify the value of the attribute for the particular instance.\n",
    "\n",
    "3. Method Invocation: `self` is used to invoke other methods on the object. By calling `self.method_name()`, you can execute another method defined in the class on the current instance. This allows methods to interact with each other and perform complex operations.\n",
    "\n",
    "4. Object Identity: `self` helps in maintaining the identity of the object within the class. It ensures that the methods and attributes refer to the correct instance of the class, even if multiple objects are created from the same class.\n",
    "\n",
    "In summary, `self` is used in OOP to refer to the current instance of a class. It enables accessing instance attributes, invoking methods, and maintaining the object's identity within the class. It helps in encapsulating and manipulating the object's data and behavior in a clear and consistent manner."
   ]
  },
  {
   "cell_type": "markdown",
   "id": "80d89e39",
   "metadata": {},
   "source": [
    "Q5. What is inheritance? Give an example for each type of inheritance."
   ]
  },
  {
   "cell_type": "markdown",
   "id": "cdb33c8b",
   "metadata": {},
   "source": [
    "Answer . Inheritance is a fundamental concept in object-oriented programming (OOP) that allows the creation of new classes (derived classes) based on existing classes (base classes). It enables code reuse, promotes code organization, and establishes relationships between classes.\n",
    "\n",
    "Inheritance allows the derived class to inherit attributes and methods from the base class, making it easier to create specialized classes that inherit common behaviors and characteristics. The derived class can also add its own unique attributes and methods or override the inherited ones.\n",
    "\n",
    "There are different types of inheritance in OOP:\n",
    "\n",
    "Single Inheritance: In single inheritance, a derived class inherits from a single base class. It forms a simple parent-child relationship between two classes.\n",
    "\n",
    "Multiple Inheritance: Multiple inheritance allows a derived class to inherit from multiple base classes. It enables a class to inherit attributes and methods from multiple sources. \n",
    "\n",
    "Multilevel Inheritance: Multilevel inheritance involves a chain of inheritance where a derived class becomes the base class for another derived class."
   ]
  },
  {
   "cell_type": "code",
   "execution_count": 19,
   "id": "c26433c9",
   "metadata": {},
   "outputs": [
    {
     "name": "stdout",
     "output_type": "stream",
     "text": [
      "Animal speaks.\n",
      "Dog barks.\n"
     ]
    }
   ],
   "source": [
    "#Single Inheritance: In single inheritance, a derived class inherits\n",
    "#from a single base class. It forms a simple parent-child relationship between two classes.\n",
    "\n",
    "\n",
    "\n",
    "\n",
    "class Animal:\n",
    "    def speak(self):\n",
    "        print(\"Animal speaks.\")\n",
    "\n",
    "\n",
    "class Dog(Animal):\n",
    "    def bark(self):\n",
    "        print(\"Dog barks.\")\n",
    "\n",
    "\n",
    "dog = Dog()\n",
    "dog.speak()  \n",
    "dog.bark()   \n"
   ]
  },
  {
   "cell_type": "code",
   "execution_count": 17,
   "id": "05beb20a",
   "metadata": {},
   "outputs": [
    {
     "name": "stdout",
     "output_type": "stream",
     "text": [
      "Method A\n",
      "Method B\n",
      "Method C\n"
     ]
    }
   ],
   "source": [
    "#Multiple Inheritance: Multiple inheritance allows a derived class to\n",
    "#inherit from multiple base classes. It enables a class to inherit attributes and methods from multiple sources.\n",
    "\n",
    "\n",
    "\n",
    "\n",
    "\n",
    "class A:\n",
    "    def method_a(self):\n",
    "        print(\"Method A\")\n",
    "\n",
    "class B:\n",
    "    def method_b(self):\n",
    "        print(\"Method B\")\n",
    "\n",
    "\n",
    "class C(A, B):\n",
    "    def method_c(self):\n",
    "        print(\"Method C\")\n",
    "\n",
    "\n",
    "c = C()\n",
    "c.method_a() \n",
    "c.method_b()  \n",
    "c.method_c()  \n"
   ]
  },
  {
   "cell_type": "code",
   "execution_count": 18,
   "id": "8a4351c9",
   "metadata": {},
   "outputs": [
    {
     "name": "stdout",
     "output_type": "stream",
     "text": [
      "Animal speaks.\n",
      "Dog barks.\n",
      "Puppy wags tail.\n"
     ]
    }
   ],
   "source": [
    "#Multilevel Inheritance: Multilevel \n",
    "    #inheritance involves a chain of inheritance where a derived class becomes the base class for another derived class.\n",
    "    \n",
    "    \n",
    "class Animal:\n",
    "    def speak(self):\n",
    "        print(\"Animal speaks.\")\n",
    "\n",
    "\n",
    "class Dog(Animal):\n",
    "    def bark(self):\n",
    "        print(\"Dog barks.\")\n",
    "\n",
    "\n",
    "class Puppy(Dog):\n",
    "    def wag_tail(self):\n",
    "        print(\"Puppy wags tail.\")\n",
    "\n",
    "\n",
    "puppy = Puppy()\n",
    "puppy.speak()     \n",
    "puppy.bark()      \n",
    "puppy.wag_tail()    \n"
   ]
  },
  {
   "cell_type": "code",
   "execution_count": null,
   "id": "cf99536f",
   "metadata": {},
   "outputs": [],
   "source": []
  }
 ],
 "metadata": {
  "kernelspec": {
   "display_name": "Python 3 (ipykernel)",
   "language": "python",
   "name": "python3"
  },
  "language_info": {
   "codemirror_mode": {
    "name": "ipython",
    "version": 3
   },
   "file_extension": ".py",
   "mimetype": "text/x-python",
   "name": "python",
   "nbconvert_exporter": "python",
   "pygments_lexer": "ipython3",
   "version": "3.9.12"
  }
 },
 "nbformat": 4,
 "nbformat_minor": 5
}
